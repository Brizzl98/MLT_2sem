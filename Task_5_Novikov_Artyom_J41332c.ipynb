{
  "nbformat": 4,
  "nbformat_minor": 0,
  "metadata": {
    "colab": {
      "name": "Task 5",
      "provenance": [],
      "collapsed_sections": []
    },
    "kernelspec": {
      "name": "python3",
      "display_name": "Python 3"
    }
  },
  "cells": [
    {
      "cell_type": "markdown",
      "metadata": {
        "id": "3UGJbrhXdsiQ"
      },
      "source": [
        "## Task 5 - Artyom Novikov J41332c "
      ]
    },
    {
      "cell_type": "markdown",
      "metadata": {
        "id": "GrKhuHp-tIBT"
      },
      "source": [
        "### Make all the necessary imports"
      ]
    },
    {
      "cell_type": "code",
      "metadata": {
        "id": "_Gf1Y7ywcagI",
        "colab": {
          "base_uri": "https://localhost:8080/"
        },
        "outputId": "2409447a-65f2-46b0-d219-4c058ba8dae6"
      },
      "source": [
        "import re \r\n",
        "import math\r\n",
        "from textblob import TextBlob as tb\r\n",
        "from nltk.corpus import wordnet as wn\r\n",
        "import nltk\r\n",
        "nltk.download('punkt')\r\n",
        "nltk.download('averaged_perceptron_tagger')\r\n",
        "from collections import Counter"
      ],
      "execution_count": 1,
      "outputs": [
        {
          "output_type": "stream",
          "text": [
            "[nltk_data] Downloading package punkt to /root/nltk_data...\n",
            "[nltk_data]   Package punkt is already up-to-date!\n",
            "[nltk_data] Downloading package averaged_perceptron_tagger to\n",
            "[nltk_data]     /root/nltk_data...\n",
            "[nltk_data]   Package averaged_perceptron_tagger is already up-to-\n",
            "[nltk_data]       date!\n"
          ],
          "name": "stdout"
        }
      ]
    },
    {
      "cell_type": "markdown",
      "metadata": {
        "id": "Vjs8Su4VfBK6"
      },
      "source": [
        "### First step. Download the text and perform all the necessary preprocessing on the text."
      ]
    },
    {
      "cell_type": "code",
      "metadata": {
        "id": "uv0nkYtecTrq"
      },
      "source": [
        "alice_story = open(\"alice.txt\", 'rb').readlines()\r\n",
        "alice_story = list(map(lambda s:s.decode(\"utf8\"), alice_story))"
      ],
      "execution_count": 2,
      "outputs": []
    },
    {
      "cell_type": "markdown",
      "metadata": {
        "id": "PprB_VmOfvec"
      },
      "source": [
        "### Lowercase text\r\n"
      ]
    },
    {
      "cell_type": "code",
      "metadata": {
        "id": "E4nHIxgufvKC"
      },
      "source": [
        "alice_story = \"\\n\".join(alice_story).lower()"
      ],
      "execution_count": 3,
      "outputs": []
    },
    {
      "cell_type": "markdown",
      "metadata": {
        "id": "JY8i-Du-f3IL"
      },
      "source": [
        "### Take only word from the text"
      ]
    },
    {
      "cell_type": "code",
      "metadata": {
        "id": "aLFUeVOqcWPW"
      },
      "source": [
        "words_only = re.sub(\"\\W\", \" \", alice_story)[1547:] "
      ],
      "execution_count": 4,
      "outputs": []
    },
    {
      "cell_type": "markdown",
      "metadata": {
        "id": "iogCjJ_YgjJw"
      },
      "source": [
        "### Creating a list of chapters and function for taking the text from the chapter"
      ]
    },
    {
      "cell_type": "code",
      "metadata": {
        "id": "LQS_Bg2WcfMP"
      },
      "source": [
        "chapters = ['i', 'ii', 'iii', 'iv', 'v', 'vi', 'vii', 'viii', 'ix', 'x', 'xi', 'xii', 'the end']"
      ],
      "execution_count": 5,
      "outputs": []
    },
    {
      "cell_type": "code",
      "metadata": {
        "id": "wZiNKzxrhBz-"
      },
      "source": [
        "def get_text(chapter = 1):\r\n",
        "    if chapter != 11:\r\n",
        "        reg = \"chapter %s .{100,} chapter %s \"%(chapters[chapter], chapters[chapter+1])\r\n",
        "    else:\r\n",
        "        reg = \"chapter %s .{100,} %s \"%(chapters[chapter], chapters[chapter+1])\r\n",
        "    return re.search(reg, words_only)[0]"
      ],
      "execution_count": 6,
      "outputs": []
    },
    {
      "cell_type": "code",
      "metadata": {
        "colab": {
          "base_uri": "https://localhost:8080/"
        },
        "id": "DB_u8EGPc1Rn",
        "outputId": "cb33b7f1-0606-433e-d881-bc1d6794e2b6"
      },
      "source": [
        "print(get_text(chapter = 0))\r\n",
        "print(get_text(chapter = 7))"
      ],
      "execution_count": 17,
      "outputs": [
        {
          "output_type": "stream",
          "text": [
            "chapter i    down the rabbit hole         alice was beginning to get very tired of sitting by her sister on the   bank  and of having nothing to do  once or twice she had peeped into   the book her sister was reading  but it had no pictures or   conversations in it   and what is the use of a book   thought alice    without pictures or conversations        so she was considering in her own mind  as well as she could  for the   hot day made her feel very sleepy and stupid   whether the pleasure of   making a daisy chain would be worth the trouble of getting up and   picking the daisies  when suddenly a white rabbit with pink eyes ran   close by her       there was nothing so _very_ remarkable in that  nor did alice think it   so _very_ much out of the way to hear the rabbit say to itself   oh   dear  oh dear  i shall be late    when she thought it over afterwards    it occurred to her that she ought to have wondered at this  but at the   time it all seemed quite natural   but when the rabbit actually _took a   watch out of its waistcoat pocket_  and looked at it  and then hurried   on  alice started to her feet  for it flashed across her mind that she   had never before seen a rabbit with either a waistcoat pocket  or a   watch to take out of it  and burning with curiosity  she ran across the   field after it  and fortunately was just in time to see it pop down a   large rabbit hole under the hedge       in another moment down went alice after it  never once considering how   in the world she was to get out again       the rabbit hole went straight on like a tunnel for some way  and then   dipped suddenly down  so suddenly that alice had not a moment to think   about stopping herself before she found herself falling down a very   deep well       either the well was very deep  or she fell very slowly  for she had   plenty of time as she went down to look about her and to wonder what   was going to happen next  first  she tried to look down and make out   what she was coming to  but it was too dark to see anything  then she   looked at the sides of the well  and noticed that they were filled with   cupboards and book shelves  here and there she saw maps and pictures   hung upon pegs  she took down a jar from one of the shelves as she   passed  it was labelled  orange marmalade   but to her great   disappointment it was empty  she did not like to drop the jar for fear   of killing somebody underneath  so managed to put it into one of the   cupboards as she fell past it        well   thought alice to herself   after such a fall as this  i shall   think nothing of tumbling down stairs  how brave they ll all think me   at home  why  i wouldn t say anything about it  even if i fell off the   top of the house    which was very likely true        down  down  down  would the fall _never_ come to an end   i wonder how   many miles i ve fallen by this time   she said aloud   i must be   getting somewhere near the centre of the earth  let me see  that would   be four thousand miles down  i think    for  you see  alice had learnt   several things of this sort in her lessons in the schoolroom  and   though this was not a _very_ good opportunity for showing off her   knowledge  as there was no one to listen to her  still it was good   practice to say it over    yes  that s about the right distance but   then i wonder what latitude or longitude i ve got to    alice had no   idea what latitude was  or longitude either  but thought they were nice   grand words to say        presently she began again   i wonder if i shall fall right _through_   the earth  how funny it ll seem to come out among the people that walk   with their heads downward  the antipathies  i think    she was rather   glad there _was_ no one listening  this time  as it didn t sound at all   the right word    but i shall have to ask them what the name of the   country is  you know  please  ma am  is this new zealand or australia      and she tried to curtsey as she spoke fancy _curtseying_ as you re   falling through the air  do you think you could manage it    and what   an ignorant little girl she ll think me for asking  no  it ll never do   to ask  perhaps i shall see it written up somewhere        down  down  down  there was nothing else to do  so alice soon began   talking again   dinah ll miss me very much to night  i should think      dinah was the cat    i hope they ll remember her saucer of milk at   tea time  dinah my dear  i wish you were down here with me  there are   no mice in the air  i m afraid  but you might catch a bat  and that s   very like a mouse  you know  but do cats eat bats  i wonder   and here   alice began to get rather sleepy  and went on saying to herself  in a   dreamy sort of way   do cats eat bats  do cats eat bats   and   sometimes   do bats eat cats   for  you see  as she couldn t answer   either question  it didn t much matter which way she put it  she felt   that she was dozing off  and had just begun to dream that she was   walking hand in hand with dinah  and saying to her very earnestly     now  dinah  tell me the truth  did you ever eat a bat   when suddenly    thump  thump  down she came upon a heap of sticks and dry leaves  and   the fall was over       alice was not a bit hurt  and she jumped up on to her feet in a moment    she looked up  but it was all dark overhead  before her was another   long passage  and the white rabbit was still in sight  hurrying down   it  there was not a moment to be lost  away went alice like the wind    and was just in time to hear it say  as it turned a corner   oh my ears   and whiskers  how late it s getting   she was close behind it when she   turned the corner  but the rabbit was no longer to be seen  she found   herself in a long  low hall  which was lit up by a row of lamps hanging   from the roof       there were doors all round the hall  but they were all locked  and when   alice had been all the way down one side and up the other  trying every   door  she walked sadly down the middle  wondering how she was ever to   get out again       suddenly she came upon a little three legged table  all made of solid   glass  there was nothing on it except a tiny golden key  and alice s   first thought was that it might belong to one of the doors of the hall    but  alas  either the locks were too large  or the key was too small    but at any rate it would not open any of them  however  on the second   time round  she came upon a low curtain she had not noticed before  and   behind it was a little door about fifteen inches high  she tried the   little golden key in the lock  and to her great delight it fitted       alice opened the door and found that it led into a small passage  not   much larger than a rat hole  she knelt down and looked along the   passage into the loveliest garden you ever saw  how she longed to get   out of that dark hall  and wander about among those beds of bright   flowers and those cool fountains  but she could not even get her head   through the doorway   and even if my head would go through   thought   poor alice   it would be of very little use without my shoulders  oh    how i wish i could shut up like a telescope  i think i could  if i only   knew how to begin   for  you see  so many out of the way things had   happened lately  that alice had begun to think that very few things   indeed were really impossible       there seemed to be no use in waiting by the little door  so she went   back to the table  half hoping she might find another key on it  or at   any rate a book of rules for shutting people up like telescopes  this   time she found a little bottle on it    which certainly was not here   before   said alice   and round the neck of the bottle was a paper   label  with the words  drink me   beautifully printed on it in large   letters       it was all very well to say  drink me   but the wise little alice was   not going to do _that_ in a hurry   no  i ll look first   she said     and see whether it s marked  _poison_  or not   for she had read   several nice little histories about children who had got burnt  and   eaten up by wild beasts and other unpleasant things  all because they   _would_ not remember the simple rules their friends had taught them    such as  that a red hot poker will burn you if you hold it too long    and that if you cut your finger _very_ deeply with a knife  it usually   bleeds  and she had never forgotten that  if you drink much from a   bottle marked  poison   it is almost certain to disagree with you    sooner or later       however  this bottle was _not_ marked  poison   so alice ventured to   taste it  and finding it very nice   it had  in fact  a sort of mixed   flavour of cherry tart  custard  pine apple  roast turkey  toffee  and   hot buttered toast   she very soon finished it off                                                                                                                                                           what a curious feeling   said alice   i must be shutting up like a   telescope        and so it was indeed  she was now only ten inches high  and her face   brightened up at the thought that she was now the right size for going   through the little door into that lovely garden  first  however  she   waited for a few minutes to see if she was going to shrink any further    she felt a little nervous about this   for it might end  you know     said alice to herself   in my going out altogether  like a candle  i   wonder what i should be like then   and she tried to fancy what the   flame of a candle is like after the candle is blown out  for she could   not remember ever having seen such a thing       after a while  finding that nothing more happened  she decided on going   into the garden at once  but  alas for poor alice  when she got to the   door  she found she had forgotten the little golden key  and when she   went back to the table for it  she found she could not possibly reach   it  she could see it quite plainly through the glass  and she tried her   best to climb up one of the legs of the table  but it was too slippery    and when she had tired herself out with trying  the poor little thing   sat down and cried        come  there s no use in crying like that   said alice to herself    rather sharply   i advise you to leave off this minute   she generally   gave herself very good advice   though she very seldom followed it     and sometimes she scolded herself so severely as to bring tears into   her eyes  and once she remembered trying to box her own ears for having   cheated herself in a game of croquet she was playing against herself    for this curious child was very fond of pretending to be two people     but it s no use now   thought poor alice   to pretend to be two   people  why  there s hardly enough of me left to make _one_ respectable   person        soon her eye fell on a little glass box that was lying under the table    she opened it  and found in it a very small cake  on which the words    eat me  were beautifully marked in currants   well  i ll eat it   said   alice   and if it makes me grow larger  i can reach the key  and if it   makes me grow smaller  i can creep under the door  so either way i ll   get into the garden  and i don t care which happens        she ate a little bit  and said anxiously to herself   which way  which   way    holding her hand on the top of her head to feel which way it was   growing  and she was quite surprised to find that she remained the same   size  to be sure  this generally happens when one eats cake  but alice   had got so much into the way of expecting nothing but out of the way   things to happen  that it seemed quite dull and stupid for life to go   on in the common way       so she set to work  and very soon finished off the cake                                                                                                                                                                chapter ii \n",
            "chapter viii    the queen s croquet ground         a large rose tree stood near the entrance of the garden  the roses   growing on it were white  but there were three gardeners at it  busily   painting them red  alice thought this a very curious thing  and she   went nearer to watch them  and just as she came up to them she heard   one of them say   look out now  five  don t go splashing paint over me   like that         i couldn t help it   said five  in a sulky tone   seven jogged my   elbow        on which seven looked up and said   that s right  five  always lay the   blame on others         _you d_ better not talk   said five   i heard the queen say only   yesterday you deserved to be beheaded         what for   said the one who had spoken first        that s none of _your_ business  two   said seven        yes  it _is_ his business   said five   and i ll tell him it was for   bringing the cook tulip roots instead of onions        seven flung down his brush  and had just begun  well  of all the unjust   things   when his eye chanced to fall upon alice  as she stood watching   them  and he checked himself suddenly  the others looked round also    and all of them bowed low        would you tell me   said alice  a little timidly   why you are   painting those roses        five and seven said nothing  but looked at two  two began in a low   voice   why the fact is  you see  miss  this here ought to have been a   _red_ rose tree  and we put a white one in by mistake  and if the queen   was to find it out  we should all have our heads cut off  you know  so   you see  miss  we re doing our best  afore she comes  to   at this   moment five  who had been anxiously looking across the garden  called   out  the queen  the queen   and the three gardeners instantly threw   themselves flat upon their faces  there was a sound of many footsteps    and alice looked round  eager to see the queen       first came ten soldiers carrying clubs  these were all shaped like the   three gardeners  oblong and flat  with their hands and feet at the   corners  next the ten courtiers  these were ornamented all over with   diamonds  and walked two and two  as the soldiers did  after these came   the royal children  there were ten of them  and the little dears came   jumping merrily along hand in hand  in couples  they were all   ornamented with hearts  next came the guests  mostly kings and queens    and among them alice recognised the white rabbit  it was talking in a   hurried nervous manner  smiling at everything that was said  and went   by without noticing her  then followed the knave of hearts  carrying   the king s crown on a crimson velvet cushion  and  last of all this   grand procession  came the king and queen of hearts       alice was rather doubtful whether she ought not to lie down on her face   like the three gardeners  but she could not remember ever having heard   of such a rule at processions   and besides  what would be the use of a   procession   thought she   if people had all to lie down upon their   faces  so that they couldn t see it   so she stood still where she was    and waited       when the procession came opposite to alice  they all stopped and looked   at her  and the queen said severely  who is this   she said it to the   knave of hearts  who only bowed and smiled in reply        idiot   said the queen  tossing her head impatiently  and  turning to   alice  she went on   what s your name  child         my name is alice  so please your majesty   said alice very politely    but she added  to herself   why  they re only a pack of cards  after   all  i needn t be afraid of them         and who are _these _  said the queen  pointing to the three gardeners   who were lying round the rose tree  for  you see  as they were lying on   their faces  and the pattern on their backs was the same as the rest of   the pack  she could not tell whether they were gardeners  or soldiers    or courtiers  or three of her own children        how should _i_ know   said alice  surprised at her own courage   it s   no business of _mine_        the queen turned crimson with fury  and  after glaring at her for a   moment like a wild beast  screamed  off with her head  off         nonsense   said alice  very loudly and decidedly  and the queen was   silent       the king laid his hand upon her arm  and timidly said  consider  my   dear  she is only a child        the queen turned angrily away from him  and said to the knave  turn   them over        the knave did so  very carefully  with one foot        get up   said the queen  in a shrill  loud voice  and the three   gardeners instantly jumped up  and began bowing to the king  the queen    the royal children  and everybody else        leave off that   screamed the queen   you make me giddy   and then    turning to the rose tree  she went on   what _have_ you been doing   here         may it please your majesty   said two  in a very humble tone  going   down on one knee as he spoke   we were trying         _i_ see   said the queen  who had meanwhile been examining the roses     off with their heads   and the procession moved on  three of the   soldiers remaining behind to execute the unfortunate gardeners  who ran   to alice for protection        you shan t be beheaded   said alice  and she put them into a large   flower pot that stood near  the three soldiers wandered about for a   minute or two  looking for them  and then quietly marched off after the   others        are their heads off   shouted the queen        their heads are gone  if it please your majesty   the soldiers shouted   in reply        that s right   shouted the queen   can you play croquet        the soldiers were silent  and looked at alice  as the question was   evidently meant for her        yes   shouted alice        come on  then   roared the queen  and alice joined the procession    wondering very much what would happen next        it s it s a very fine day   said a timid voice at her side  she was   walking by the white rabbit  who was peeping anxiously into her face        very   said alice    where s the duchess         hush  hush   said the rabbit in a low  hurried tone  he looked   anxiously over his shoulder as he spoke  and then raised himself upon   tiptoe  put his mouth close to her ear  and whispered  she s under   sentence of execution         what for   said alice        did you say  what a pity     the rabbit asked        no  i didn t   said alice   i don t think it s at all a pity  i said    what for          she boxed the queen s ears   the rabbit began  alice gave a little   scream of laughter   oh  hush   the rabbit whispered in a frightened   tone   the queen will hear you  you see  she came rather late  and the   queen said         get to your places   shouted the queen in a voice of thunder  and   people began running about in all directions  tumbling up against each   other  however  they got settled down in a minute or two  and the game   began  alice thought she had never seen such a curious croquet ground   in her life  it was all ridges and furrows  the balls were live   hedgehogs  the mallets live flamingoes  and the soldiers had to double   themselves up and to stand on their hands and feet  to make the arches       the chief difficulty alice found at first was in managing her flamingo    she succeeded in getting its body tucked away  comfortably enough    under her arm  with its legs hanging down  but generally  just as she   had got its neck nicely straightened out  and was going to give the   hedgehog a blow with its head  it _would_ twist itself round and look   up in her face  with such a puzzled expression that she could not help   bursting out laughing  and when she had got its head down  and was   going to begin again  it was very provoking to find that the hedgehog   had unrolled itself  and was in the act of crawling away  besides all   this  there was generally a ridge or furrow in the way wherever she   wanted to send the hedgehog to  and  as the doubled up soldiers were   always getting up and walking off to other parts of the ground  alice   soon came to the conclusion that it was a very difficult game indeed       the players all played at once without waiting for turns  quarrelling   all the while  and fighting for the hedgehogs  and in a very short time   the queen was in a furious passion  and went stamping about  and   shouting  off with his head   or  off with her head   about once in a   minute       alice began to feel very uneasy  to be sure  she had not as yet had any   dispute with the queen  but she knew that it might happen any minute     and then   thought she   what would become of me  they re dreadfully   fond of beheading people here  the great wonder is  that there s any   one left alive        she was looking about for some way of escape  and wondering whether she   could get away without being seen  when she noticed a curious   appearance in the air  it puzzled her very much at first  but  after   watching it a minute or two  she made it out to be a grin  and she said   to herself  it s the cheshire cat  now i shall have somebody to talk   to         how are you getting on   said the cat  as soon as there was mouth   enough for it to speak with       alice waited till the eyes appeared  and then nodded   it s no use   speaking to it   she thought   till its ears have come  or at least one   of them   in another minute the whole head appeared  and then alice put   down her flamingo  and began an account of the game  feeling very glad   she had someone to listen to her  the cat seemed to think that there   was enough of it now in sight  and no more of it appeared        i don t think they play at all fairly   alice began  in rather a   complaining tone   and they all quarrel so dreadfully one can t hear   oneself speak and they don t seem to have any rules in particular  at   least  if there are  nobody attends to them and you ve no idea how   confusing it is all the things being alive  for instance  there s the   arch i ve got to go through next walking about at the other end of the   ground and i should have croqueted the queen s hedgehog just now  only   it ran away when it saw mine coming         how do you like the queen   said the cat in a low voice        not at all   said alice   she s so extremely   just then she noticed   that the queen was close behind her  listening  so she went on      likely to win  that it s hardly worth while finishing the game        the queen smiled and passed on        who _are_ you talking to   said the king  going up to alice  and   looking at the cat s head with great curiosity        it s a friend of mine a cheshire cat   said alice   allow me to   introduce it         i don t like the look of it at all   said the king   however  it may   kiss my hand if it likes         i d rather not   the cat remarked        don t be impertinent   said the king   and don t look at me like   that   he got behind alice as he spoke        a cat may look at a king   said alice   i ve read that in some book    but i don t remember where         well  it must be removed   said the king very decidedly  and he called   the queen  who was passing at the moment   my dear  i wish you would   have this cat removed        the queen had only one way of settling all difficulties  great or   small   off with his head   she said  without even looking round        i ll fetch the executioner myself   said the king eagerly  and he   hurried off       alice thought she might as well go back  and see how the game was going   on  as she heard the queen s voice in the distance  screaming with   passion  she had already heard her sentence three of the players to be   executed for having missed their turns  and she did not like the look   of things at all  as the game was in such confusion that she never knew   whether it was her turn or not  so she went in search of her hedgehog       the hedgehog was engaged in a fight with another hedgehog  which seemed   to alice an excellent opportunity for croqueting one of them with the   other  the only difficulty was  that her flamingo was gone across to   the other side of the garden  where alice could see it trying in a   helpless sort of way to fly up into a tree       by the time she had caught the flamingo and brought it back  the fight   was over  and both the hedgehogs were out of sight   but it doesn t   matter much   thought alice   as all the arches are gone from this side   of the ground   so she tucked it away under her arm  that it might not   escape again  and went back for a little more conversation with her   friend       when she got back to the cheshire cat  she was surprised to find quite   a large crowd collected round it  there was a dispute going on between   the executioner  the king  and the queen  who were all talking at once    while all the rest were quite silent  and looked very uncomfortable       the moment alice appeared  she was appealed to by all three to settle   the question  and they repeated their arguments to her  though  as they   all spoke at once  she found it very hard indeed to make out exactly   what they said       the executioner s argument was  that you couldn t cut off a head unless   there was a body to cut it off from  that he had never had to do such a   thing before  and he wasn t going to begin at _his_ time of life       the king s argument was  that anything that had a head could be   beheaded  and that you weren t to talk nonsense       the queen s argument was  that if something wasn t done about it in   less than no time she d have everybody executed  all round   it was   this last remark that had made the whole party look so grave and   anxious        alice could think of nothing else to say but  it belongs to the   duchess  you d better ask _her_ about it         she s in prison   the queen said to the executioner   fetch her here     and the executioner went off like an arrow       the cat s head began fading away the moment he was gone  and  by the   time he had come back with the duchess  it had entirely disappeared  so   the king and the executioner ran wildly up and down looking for it    while the rest of the party went back to the game                chapter ix \n"
          ],
          "name": "stdout"
        }
      ]
    },
    {
      "cell_type": "markdown",
      "metadata": {
        "id": "2HrB8wDoqsS5"
      },
      "source": [
        "### Top 10 most important words from each chapter in the text (not \"Alice\")"
      ]
    },
    {
      "cell_type": "code",
      "metadata": {
        "id": "atuXM1E-c3Zs"
      },
      "source": [
        "def tf(word, blob):\r\n",
        "    return blob.split().count(word) / len(blob.split())\r\n",
        "    \r\n",
        "def idf(word, bloblist):\r\n",
        "    return math.log(len(bloblist) / (1 + n_containing(word, bloblist)))\r\n",
        "\r\n",
        "def n_containing(word, bloblist):\r\n",
        "    return sum(1 for blob in bloblist if word in blob.split())\r\n",
        "\r\n",
        "def tfidf(word, blob, bloblist):\r\n",
        "    return tf(word, blob) * idf(word, bloblist)"
      ],
      "execution_count": 8,
      "outputs": []
    },
    {
      "cell_type": "code",
      "metadata": {
        "colab": {
          "base_uri": "https://localhost:8080/"
        },
        "id": "97e6IsOuc7b0",
        "outputId": "cde98d1a-c417-472f-c1b9-956ad49acaf1"
      },
      "source": [
        "bloblist = [get_text(i) for i in range(len(chapters)-1)]\r\n",
        "for i, blob in enumerate(bloblist):\r\n",
        "    print(\"Chapter %s \"%chapters[i])\r\n",
        "    scores = {word: tfidf(word, blob, bloblist) for word in blob.split()}\r\n",
        "    sorted_words = sorted(scores.items(), key=lambda x: x[1], reverse=True)\r\n",
        "    for word, score in sorted_words[:10]:\r\n",
        "        print(\"\\tword: {}, tf-idf score: {}\".format(word, round(score, 5)))"
      ],
      "execution_count": 9,
      "outputs": [
        {
          "output_type": "stream",
          "text": [
            "Chapter i \n",
            "\tword: bats, tf-idf score: 0.00326\n",
            "\tword: key, tf-idf score: 0.003\n",
            "\tword: hole, tf-idf score: 0.00252\n",
            "\tword: bottle, tf-idf score: 0.00252\n",
            "\tword: dark, tf-idf score: 0.00245\n",
            "\tword: candle, tf-idf score: 0.00245\n",
            "\tword: cake, tf-idf score: 0.00245\n",
            "\tword: eat, tf-idf score: 0.00221\n",
            "\tword: fell, tf-idf score: 0.002\n",
            "\tword: cats, tf-idf score: 0.002\n",
            "Chapter ii \n",
            "\tword: mouse, tf-idf score: 0.00492\n",
            "\tword: swam, tf-idf score: 0.00409\n",
            "\tword: pool, tf-idf score: 0.00401\n",
            "\tword: cats, tf-idf score: 0.00351\n",
            "\tword: mabel, tf-idf score: 0.00327\n",
            "\tword: gloves, tf-idf score: 0.00253\n",
            "\tword: fan, tf-idf score: 0.00253\n",
            "\tword: dogs, tf-idf score: 0.00245\n",
            "\tword: tears, tf-idf score: 0.0019\n",
            "\tword: kid, tf-idf score: 0.0019\n",
            "Chapter iii \n",
            "\tword: dodo, tf-idf score: 0.00954\n",
            "\tword: mouse, tf-idf score: 0.00618\n",
            "\tword: race, tf-idf score: 0.00616\n",
            "\tword: prizes, tf-idf score: 0.00514\n",
            "\tword: lory, tf-idf score: 0.00477\n",
            "\tword: thimble, tf-idf score: 0.00411\n",
            "\tword: dry, tf-idf score: 0.00378\n",
            "\tword: caucus, tf-idf score: 0.00308\n",
            "\tword: dinah, tf-idf score: 0.00251\n",
            "\tword: tale, tf-idf score: 0.00238\n",
            "Chapter iv \n",
            "\tword: window, tf-idf score: 0.00522\n",
            "\tword: puppy, tf-idf score: 0.00457\n",
            "\tword: bill, tf-idf score: 0.00446\n",
            "\tword: chimney, tf-idf score: 0.00391\n",
            "\tword: gloves, tf-idf score: 0.00353\n",
            "\tword: fan, tf-idf score: 0.00303\n",
            "\tword: bottle, tf-idf score: 0.00303\n",
            "\tword: mary, tf-idf score: 0.00261\n",
            "\tword: ann, tf-idf score: 0.00261\n",
            "\tword: yer, tf-idf score: 0.00261\n",
            "Chapter v \n",
            "\tword: caterpillar, tf-idf score: 0.01269\n",
            "\tword: pigeon, tf-idf score: 0.00955\n",
            "\tword: serpent, tf-idf score: 0.00716\n",
            "\tword: youth, tf-idf score: 0.00478\n",
            "\tword: eggs, tf-idf score: 0.00398\n",
            "\tword: father, tf-idf score: 0.00308\n",
            "\tword: hookah, tf-idf score: 0.00246\n",
            "\tword: serpents, tf-idf score: 0.00239\n",
            "\tword: size, tf-idf score: 0.00233\n",
            "\tword: green, tf-idf score: 0.00185\n",
            "Chapter vi \n",
            "\tword: footman, tf-idf score: 0.00938\n",
            "\tword: baby, tf-idf score: 0.00622\n",
            "\tword: cat, tf-idf score: 0.0057\n",
            "\tword: mad, tf-idf score: 0.00493\n",
            "\tword: wow, tf-idf score: 0.00402\n",
            "\tword: pig, tf-idf score: 0.00329\n",
            "\tword: cook, tf-idf score: 0.00288\n",
            "\tword: grunted, tf-idf score: 0.00268\n",
            "\tword: duchess, tf-idf score: 0.00212\n",
            "\tword: fish, tf-idf score: 0.00207\n",
            "Chapter vii \n",
            "\tword: dormouse, tf-idf score: 0.01567\n",
            "\tword: hatter, tf-idf score: 0.01518\n",
            "\tword: march, tf-idf score: 0.00806\n",
            "\tword: hare, tf-idf score: 0.0077\n",
            "\tword: twinkle, tf-idf score: 0.0045\n",
            "\tword: tea, tf-idf score: 0.0044\n",
            "\tword: clock, tf-idf score: 0.00375\n",
            "\tword: treacle, tf-idf score: 0.00348\n",
            "\tword: draw, tf-idf score: 0.00348\n",
            "\tword: asleep, tf-idf score: 0.00276\n",
            "Chapter viii \n",
            "\tword: queen, tf-idf score: 0.00757\n",
            "\tword: gardeners, tf-idf score: 0.00559\n",
            "\tword: hedgehog, tf-idf score: 0.00489\n",
            "\tword: soldiers, tf-idf score: 0.00487\n",
            "\tword: king, tf-idf score: 0.00444\n",
            "\tword: executioner, tf-idf score: 0.00419\n",
            "\tword: five, tf-idf score: 0.00378\n",
            "\tword: procession, tf-idf score: 0.00349\n",
            "\tword: cat, tf-idf score: 0.00297\n",
            "\tword: seven, tf-idf score: 0.0027\n",
            "Chapter ix \n",
            "\tword: turtle, tf-idf score: 0.01299\n",
            "\tword: mock, tf-idf score: 0.01206\n",
            "\tword: gryphon, tf-idf score: 0.00739\n",
            "\tword: moral, tf-idf score: 0.00605\n",
            "\tword: duchess, tf-idf score: 0.00325\n",
            "\tword: queen, tf-idf score: 0.00319\n",
            "\tword: school, tf-idf score: 0.00293\n",
            "\tword: mustard, tf-idf score: 0.00227\n",
            "\tword: tortoise, tf-idf score: 0.00227\n",
            "\tword: drawling, tf-idf score: 0.00227\n",
            "Chapter x \n",
            "\tword: mock, tf-idf score: 0.01461\n",
            "\tword: turtle, tf-idf score: 0.01461\n",
            "\tword: gryphon, tf-idf score: 0.01289\n",
            "\tword: dance, tf-idf score: 0.01107\n",
            "\tword: join, tf-idf score: 0.00766\n",
            "\tword: whiting, tf-idf score: 0.00681\n",
            "\tword: lobster, tf-idf score: 0.00596\n",
            "\tword: lobsters, tf-idf score: 0.00596\n",
            "\tword: soo, tf-idf score: 0.00596\n",
            "\tword: oop, tf-idf score: 0.00596\n",
            "Chapter xi \n",
            "\tword: hatter, tf-idf score: 0.01183\n",
            "\tword: king, tf-idf score: 0.01167\n",
            "\tword: court, tf-idf score: 0.01066\n",
            "\tword: dormouse, tf-idf score: 0.00924\n",
            "\tword: witness, tf-idf score: 0.00918\n",
            "\tword: jury, tf-idf score: 0.00394\n",
            "\tword: jurors, tf-idf score: 0.00367\n",
            "\tword: officers, tf-idf score: 0.00367\n",
            "\tword: tarts, tf-idf score: 0.00355\n",
            "\tword: bread, tf-idf score: 0.00355\n",
            "Chapter xii \n",
            "\tword: king, tf-idf score: 0.00879\n",
            "\tword: jury, tf-idf score: 0.00652\n",
            "\tword: sister, tf-idf score: 0.00443\n",
            "\tword: dream, tf-idf score: 0.0038\n",
            "\tword: jurymen, tf-idf score: 0.00327\n",
            "\tword: verses, tf-idf score: 0.00327\n",
            "\tword: slates, tf-idf score: 0.00253\n",
            "\tword: important, tf-idf score: 0.00251\n",
            "\tword: queen, tf-idf score: 0.00246\n",
            "\tword: unimportant, tf-idf score: 0.00245\n"
          ],
          "name": "stdout"
        }
      ]
    },
    {
      "cell_type": "markdown",
      "metadata": {
        "id": "H22mvbbhq4Zg"
      },
      "source": [
        "### *According to the results chapters could be named by the most important word, or combination of most important words\r\n"
      ]
    },
    {
      "cell_type": "markdown",
      "metadata": {
        "id": "5A4gXrSpra2A"
      },
      "source": [
        "### To find the Top 10 most used verbs in sentences with Alice, creating a fuction to check if word is a verb"
      ]
    },
    {
      "cell_type": "code",
      "metadata": {
        "id": "4mZo940qdPPQ"
      },
      "source": [
        "def is_verb(tag):\r\n",
        "    \"\"\"\r\n",
        "    Convert POS tag from Penn tagset to WordNet tagset.\r\n",
        "    :param tag: a tag from Penn tagset\r\n",
        "    :return: a tag from WordNet tagset or None if no corresponding tag could be found\r\n",
        "    \"\"\"\r\n",
        "    if tag in ['VB', 'VBD', 'VBG', 'VBN', 'VBP', 'VBZ']:\r\n",
        "        return True\r\n",
        "    return False "
      ],
      "execution_count": 10,
      "outputs": []
    },
    {
      "cell_type": "code",
      "metadata": {
        "id": "va2m2OxIdSFx"
      },
      "source": [
        "clear_sentences = []\r\n",
        "for sentence in alice_story.split(\".\"):\r\n",
        "    clear_sentence = re.sub(\"\\W\", \" \", sentence)\r\n",
        "    if \"alice\" in clear_sentence:\r\n",
        "        clear_sentences.append(clear_sentence)"
      ],
      "execution_count": 11,
      "outputs": []
    },
    {
      "cell_type": "code",
      "metadata": {
        "id": "Th7BF7nAdUVe"
      },
      "source": [
        "most_common_verbs = []\r\n",
        "for sentence in clear_sentences:\r\n",
        "    words = nltk.pos_tag(nltk.word_tokenize(sentence)) \r\n",
        "    for word in words:\r\n",
        "        if is_verb(word[1]) and len(word[0])>2:\r\n",
        "            most_common_verbs.append(word[0])"
      ],
      "execution_count": 12,
      "outputs": []
    },
    {
      "cell_type": "code",
      "metadata": {
        "id": "J9Z2DV1VdZwf",
        "colab": {
          "base_uri": "https://localhost:8080/"
        },
        "outputId": "33557773-743b-495e-fe8d-947e42f38325"
      },
      "source": [
        "Counter(most_common_verbs).most_common(10)"
      ],
      "execution_count": 13,
      "outputs": [
        {
          "output_type": "execute_result",
          "data": {
            "text/plain": [
              "[('said', 209),\n",
              " ('was', 184),\n",
              " ('had', 96),\n",
              " ('thought', 45),\n",
              " ('went', 43),\n",
              " ('were', 41),\n",
              " ('know', 41),\n",
              " ('see', 36),\n",
              " ('say', 34),\n",
              " ('have', 34)]"
            ]
          },
          "metadata": {
            "tags": []
          },
          "execution_count": 13
        }
      ]
    },
    {
      "cell_type": "markdown",
      "metadata": {
        "id": "7o-F87gksgmz"
      },
      "source": [
        "### What does Alice do most often? Answer: speaks "
      ]
    }
  ]
}